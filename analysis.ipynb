{
 "cells": [
  {
   "cell_type": "code",
   "execution_count": null,
   "id": "2d3e6b6f-cb08-485c-b82e-312de900fbd8",
   "metadata": {},
   "outputs": [],
   "source": [
    "import matplotlib.pyplot as plt\n",
    "import numpy as np\n",
    "import pandas as pd\n",
    "import xarray as xr\n",
    "from weldx import Q_, WeldxFile\n",
    "import time"
   ]
  },
  {
   "cell_type": "markdown",
   "id": "12681bf5-ec99-428d-b5ab-8ef9a76c9d69",
   "metadata": {},
   "source": [
    "## File access\n",
    "- open the file and copy contents into local `data`\n",
    "- open interactive weldx tree view oif the file contents\n",
    "- print some experiment metadata"
   ]
  },
  {
   "cell_type": "code",
   "execution_count": null,
   "id": "ae257611-2d2a-48ba-928f-309db3aa3bb0",
   "metadata": {},
   "outputs": [],
   "source": [
    "filename = \"./data/WID594.wx\""
   ]
  },
  {
   "cell_type": "code",
   "execution_count": null,
   "id": "8043bafd-9e48-4e52-a565-2010dfab2260",
   "metadata": {},
   "outputs": [],
   "source": [
    "with WeldxFile(filename, \"r\", memmap=False) as wx_file:\n",
    "    data = wx_file.copy()"
   ]
  },
  {
   "cell_type": "code",
   "execution_count": null,
   "id": "6b527cb1-4ace-4955-a7d9-76d1e3b90f62",
   "metadata": {},
   "outputs": [],
   "source": [
    "data"
   ]
  },
  {
   "cell_type": "code",
   "execution_count": null,
   "id": "771c2cf3-ebae-4d3d-94aa-692727757c81",
   "metadata": {},
   "outputs": [],
   "source": [
    "print(f\"WID={data['WID']}\")\n",
    "print(data[\"workpiece\"][\"condition\"])\n",
    "print(data[\"observations\"])"
   ]
  },
  {
   "cell_type": "markdown",
   "id": "2ed28abf-40c1-4a36-8197-e2f1fced3303",
   "metadata": {},
   "source": [
    "## welding current & voltage plots"
   ]
  },
  {
   "cell_type": "code",
   "execution_count": null,
   "id": "0e1142b7-f31a-4820-81c3-aa592fa611f1",
   "metadata": {},
   "outputs": [],
   "source": [
    "current = data[\"welding_current\"]\n",
    "voltage = data[\"welding_voltage\"]"
   ]
  },
  {
   "cell_type": "code",
   "execution_count": null,
   "id": "8511e7e4-5aed-4cd9-b38b-7b483962b254",
   "metadata": {},
   "outputs": [],
   "source": [
    "fig, (ax1, ax2) = plt.subplots(2, 1)\n",
    "current.plot(axes=ax1)\n",
    "voltage.plot(axes=ax2)"
   ]
  },
  {
   "cell_type": "markdown",
   "id": "833c30a1-b225-4439-b02a-02eeed558eda",
   "metadata": {},
   "source": [
    "## Coordinate Systems\n",
    "- Extract the `CoordinateSystemManager` from the data\n",
    "- Show the experiment in the (original) `USER_FRAME` System (movement \"right to left\")\n",
    "- Show the experiment in the `WELD_FRAME` System\n",
    "- get the welding TCP movement in the `WELD_FRAME` System for further analysis"
   ]
  },
  {
   "cell_type": "code",
   "execution_count": null,
   "id": "1eea123d-cf7a-402c-801f-67701a36bc72",
   "metadata": {},
   "outputs": [],
   "source": [
    "csm = data[\"CSM\"]"
   ]
  },
  {
   "cell_type": "code",
   "execution_count": null,
   "id": "7a3d54b4-2499-45d6-8fe7-85ad6ffa8f88",
   "metadata": {},
   "outputs": [],
   "source": [
    "csm.plot(\n",
    "    backend=\"k3d\",\n",
    "    reference_system=\"USER_FRAME\",\n",
    "    coordinate_systems=[\"weld_tcp\", \"WELD_FRAME\", \"USER_FRAME\"],\n",
    "    data_sets=[\"scan_1\"],\n",
    "    colors={\n",
    "        \"scan_0\": [170, 170, 170],\n",
    "        \"scan_1\": [170, 170, 170],\n",
    "    },\n",
    ")"
   ]
  },
  {
   "cell_type": "code",
   "execution_count": null,
   "id": "fc8f6acb-b839-4bf1-9cce-fc3097191a1f",
   "metadata": {},
   "outputs": [],
   "source": [
    "plot = csm.plot(\n",
    "    backend=\"k3d\",\n",
    "    reference_system=\"WELD_FRAME\",\n",
    "    coordinate_systems=[\"weld_tcp\", \"WELD_FRAME\"],\n",
    "    data_sets=[\"scan_1\"],\n",
    "    colors={\n",
    "        \"scan_0\": [170, 170, 170],\n",
    "        \"scan_1\": [170, 170, 170],\n",
    "    },\n",
    ")\n",
    "plot.plot.grid = [-50, -60, -5, 250, 60, 20]\n",
    "display(plot)\n",
    "\n",
    "time.sleep(0.1)\n",
    "plot.plot.camera = [85.9, 0.99, 450.5, 85.9, 0.99, -11.78, 0, 0, 1]\n",
    "plot.plot.camera_fov = 20"
   ]
  },
  {
   "cell_type": "code",
   "execution_count": null,
   "id": "74dcf162-b6a3-4610-a091-597f0b669187",
   "metadata": {},
   "outputs": [],
   "source": [
    "weld_lcs = csm.get_cs(\"weld_tcp\", \"WELD_FRAME\")"
   ]
  },
  {
   "cell_type": "markdown",
   "id": "00584652-820e-4f41-8228-f92cf22bed92",
   "metadata": {},
   "source": [
    "## Combined position and time plot\n",
    "- plot the welding voltage and current with both time and x-position along the weld seam"
   ]
  },
  {
   "cell_type": "code",
   "execution_count": null,
   "id": "a7f14a0b-cf1e-40fb-81e5-3ec336188efe",
   "metadata": {},
   "outputs": [],
   "source": [
    "for signal in [current, voltage]:\n",
    "    fig, ax = plt.subplots(layout=\"constrained\")\n",
    "    x = signal.time.as_quantity(\"s\")\n",
    "    y = signal.data\n",
    "    ax.plot(x, y)\n",
    "    ax.set_xlabel(\"time in s\")\n",
    "    ax.set_ylabel(f\"{signal.units}\")\n",
    "    ax.set_xlim([0, 15])\n",
    "\n",
    "    def time2pos(x):\n",
    "        \"\"\"Get position at specific time\"\"\"\n",
    "        coords = weld_lcs.interp_time(Q_(x, \"s\")).coordinates\n",
    "        return coords.sel(c=\"x\").data.m\n",
    "\n",
    "    def pos2time(x):\n",
    "        \"\"\"Get time based on x-position.\"\"\"\n",
    "        x_coords = weld_lcs.coordinates.sel(c=\"x\")\n",
    "        distance = np.abs(x_coords - xr.DataArray(data=Q_(x, \"mm\")))\n",
    "        indx = distance.argmin(dim=\"time\")\n",
    "        return x_coords.isel(time=indx).data.m\n",
    "\n",
    "    secax = ax.secondary_xaxis(\"top\", functions=(time2pos, pos2time))\n",
    "    secax.set_xlabel(\"x position in mm\")\n",
    "    plt.show()"
   ]
  },
  {
   "cell_type": "code",
   "execution_count": null,
   "id": "9f2e3916-1df1-4564-9fe9-d90d1c00cd41",
   "metadata": {},
   "outputs": [],
   "source": []
  }
 ],
 "metadata": {
  "kernelspec": {
   "display_name": "dev",
   "language": "python",
   "name": "python3"
  },
  "language_info": {
   "codemirror_mode": {
    "name": "ipython",
    "version": 3
   },
   "file_extension": ".py",
   "mimetype": "text/x-python",
   "name": "python",
   "nbconvert_exporter": "python",
   "pygments_lexer": "ipython3",
   "version": "3.11.9"
  }
 },
 "nbformat": 4,
 "nbformat_minor": 5
}
